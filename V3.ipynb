{
  "cells": [
    {
      "cell_type": "markdown",
      "metadata": {
        "id": "view-in-github",
        "colab_type": "text"
      },
      "source": [
        "<a href=\"https://colab.research.google.com/github/ZicoDiegoRR/stable_diffusion_xl_colab_ui/blob/main/V3.ipynb\" target=\"_parent\"><img src=\"https://colab.research.google.com/assets/colab-badge.svg\" alt=\"Open In Colab\"/></a>"
      ]
    },
    {
      "cell_type": "markdown",
      "metadata": {
        "id": "t8hug-0Okf8t"
      },
      "source": [
        "###<font color=\"black\"> » <b><font color=\"red\">Installing Dependencies </b>💿</font> <font color=\"black\"> «\n",
        "#####ㅤRun this cell first before creating images!"
      ]
    },
    {
      "cell_type": "code",
      "execution_count": null,
      "metadata": {
        "id": "GaGpmeILXSGl",
        "collapsed": true,
        "cellView": "form"
      },
      "outputs": [],
      "source": [
        "#@markdown <b>Run this first to install essential libraries!</b><br> <small><p>Required to use the generator.\n",
        "from IPython.display import clear_output\n",
        "\n",
        "!git clone https://github.com/ZicoDiegoRR/stable_diffusion_xl_colab_ui.git StableDiffusionXLColabUI\n",
        "!git clone https://github.com/xinntao/Real-ESRGAN.git RealESRGAN\n",
        "!pip install -r StableDiffusionXLColabUI/requirements.txt\n",
        "!pip install -r StableDiffusionXLColabUI/requirements_torch.txt\n",
        "!pip install -r RealESRGAN/requirements.txt\n",
        "!pip install -r StableDiffusionXLColabUI/requirements_realesrgan_additional.txt\n",
        "%cd /content/RealESRGAN\n",
        "!python setup.py develop\n",
        "%cd /content\n",
        "\n",
        "clear_output()\n",
        "!export PYTORCH_CUDA_ALLOC_CONF=expandable_segments:True\n",
        "print(\"📁 | All essential libraries have been downloaded. You can start generating images now.\")"
      ]
    },
    {
      "cell_type": "markdown",
      "metadata": {
        "id": "cCBZ305GvH7w"
      },
      "source": [
        "###<font color=\"black\"> »<b><font color=\"orange\">Running Stable Diffusion</b> 🔧</font> <font color=\"black\"> «"
      ]
    },
    {
      "cell_type": "code",
      "execution_count": null,
      "metadata": {
        "id": "D-sdjCI-xvy5",
        "cellView": "form"
      },
      "outputs": [],
      "source": [
        "#@markdown **Run the cell to start!** <br> <small>(required to run the cell above first)</small> <br><br> <small>You can disable Google Drive by not permitting the notebook to access your Google Drive storage.</small> <br> <br> <small> Avoid rerunning this cell if it has loaded a model to avoid OutOfMemory error. </small>\n",
        "\n",
        "from StableDiffusionXLColabUI.utils import preprocess\n",
        "from StableDiffusionXLColabUI.UI.ui_wrapper import UIWrapper\n",
        "\n",
        "cfg, ideas_line, gpt2_pipe = preprocess.run() # Preprocess the save file, ideas.txt, and GPT-2\n",
        "colab_ui = UIWrapper(cfg, ideas_line, gpt2_pipe)# Doing everything"
      ]
    }
  ],
  "metadata": {
    "accelerator": "GPU",
    "colab": {
      "collapsed_sections": [
        "t8hug-0Okf8t"
      ],
      "gpuType": "T4",
      "provenance": [],
      "include_colab_link": true
    },
    "kernelspec": {
      "display_name": "Python 3",
      "name": "python3"
    },
    "language_info": {
      "name": "python"
    }
  },
  "nbformat": 4,
  "nbformat_minor": 0
}