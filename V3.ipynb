{
  "cells": [
    {
      "cell_type": "markdown",
      "metadata": {
        "id": "t8hug-0Okf8t"
      },
      "source": [
        "###<font color=\"black\"> » <b><font color=\"red\">Installing Dependencies </b>💿</font> <font color=\"black\"> «\n",
        "#####ㅤRun this cell first before creating images!"
      ]
    },
    {
      "cell_type": "code",
      "execution_count": null,
      "metadata": {
        "id": "GaGpmeILXSGl",
        "collapsed": true,
        "cellView": "form"
      },
      "outputs": [],
      "source": [
        "#@markdown <b>Run this first to install essential libraries!</b><br> <small><p>Required to use the generator.\n",
        "from IPython.display import clear_output\n",
        "\n",
        "!git clone https://github.com/ZicoDiegoRR/stable_diffusion_xl_colab_ui.git StableDiffusionXLColabUI\n",
        "!git clone https://github.com/xinntao/Real-ESRGAN.git RealESRGAN\n",
        "!pip install -r StableDiffusionXLColabUI/requirements.txt\n",
        "!pip install -r StableDiffusionXLColabUI/requirements_torch.txt\n",
        "!pip install -r RealESRGAN/requirements.txt\n",
        "!pip install -r StableDiffusionXLColabUI/requirements_realesrgan_additional.txt\n",
        "\n",
        "clear_output()\n",
        "!export PYTORCH_CUDA_ALLOC_CONF=expandable_segments:True\n",
        "print(\"📁 | All essential libraries have been downloaded. You can start generating images now.\")"
      ]
    },
    {
      "cell_type": "markdown",
      "metadata": {
        "id": "cCBZ305GvH7w"
      },
      "source": [
        "###<font color=\"black\"> » <b><font color=\"orange\">Running Stable Diffusion</b> 🔧</font> <font color=\"black\"> «"
      ]
    },
    {
      "cell_type": "code",
      "execution_count": null,
      "metadata": {
        "id": "D-sdjCI-xvy5",
        "cellView": "form"
      },
      "outputs": [],
      "source": [
        "#@markdown **Run the cell to start!** <br> <small>(required to run the cell above first)</small> <br><br> <small>You can disable Google Drive by not permitting the notebook to access your Google Drive storage.</small> <br> <br> <small> Avoid rerunning this cell if it has loaded a model to avoid OutOfMemory error. </small>\n",
        "from StableDiffusionXLColabUI.start import start\n",
        "start()"
      ]
    }
  ],
  "metadata": {
    "accelerator": "GPU",
    "colab": {
      "collapsed_sections": [
        "t8hug-0Okf8t"
      ],
      "gpuType": "T4",
      "provenance": []
    },
    "kernelspec": {
      "display_name": "Python 3",
      "name": "python3"
    },
    "language_info": {
      "name": "python"
    }
  },
  "nbformat": 4,
  "nbformat_minor": 0
}