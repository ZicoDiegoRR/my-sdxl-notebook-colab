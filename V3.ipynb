{
  "cells": [
    {
      "cell_type": "markdown",
      "metadata": {
        "id": "view-in-github",
        "colab_type": "text"
      },
      "source": [
        "<a href=\"https://colab.research.google.com/github/ZicoDiegoRR/stable_diffusion_xl_colab_ui/blob/main/V3.ipynb\" target=\"_parent\"><img src=\"https://colab.research.google.com/assets/colab-badge.svg\" alt=\"Open In Colab\"/></a>"
      ]
    },
    {
      "cell_type": "markdown",
      "metadata": {
        "id": "t8hug-0Okf8t"
      },
      "source": [
        "###<font color=\"black\"> » <b><font color=\"red\">Installing Dependencies </b>💿</font> <font color=\"black\"> «\n",
        "#####ㅤRun this cell first before creating images!"
      ]
    },
    {
      "cell_type": "code",
      "execution_count": null,
      "metadata": {
        "id": "GaGpmeILXSGl",
        "collapsed": true,
        "cellView": "form"
      },
      "outputs": [],
      "source": [
        "#@markdown <b>Run this first to install essential libraries!</b><br>\n",
        "#@markdown <small><p>Required to use the generator.\n",
        "from IPython.display import clear_output\n",
        "\n",
        "print(\"⚙️ | Downloading libraries...\")\n",
        "!git clone https://github.com/ZicoDiegoRR/stable_diffusion_xl_colab_ui.git StableDiffusionXLColabUI\n",
        "!pip install -r StableDiffusionXLColabUI/requirements.txt\n",
        "!pip install -r StableDiffusionXLColabUI/requirements_torch.txt\n",
        "\n",
        "!git clone https://github.com/xinntao/Real-ESRGAN.git RealESRGAN\n",
        "!pip install -r RealESRGAN/requirements.txt\n",
        "!pip install facexlib\n",
        "!pip install gfpgan\n",
        "!pip install basicsr-fixed\n",
        "%cd /content/RealESRGAN\n",
        "!python setup.py develop\n",
        "%cd /content\n",
        "\n",
        "clear_output()\n",
        "!export PYTORCH_CUDA_ALLOC_CONF=expandable_segments:True\n",
        "print(\"📁 | All essential libraries have been downloaded.\")\n",
        "print(\"🖌 | You can start generating images now.\")"
      ]
    },
    {
      "cell_type": "markdown",
      "metadata": {
        "id": "cCBZ305GvH7w"
      },
      "source": [
        "###<font color=\"black\"> »<b><font color=\"orange\">Running Stable Diffusion</b> 🔧</font> <font color=\"black\"> «"
      ]
    },
    {
      "cell_type": "code",
      "execution_count": null,
      "metadata": {
        "id": "D-sdjCI-xvy5",
        "cellView": "form"
      },
      "outputs": [],
      "source": [
        "#_______________________________________________________________________________________________________________________________________\n",
        "#@markdown <b>Run the cell to start!</b>\n",
        "\n",
        "#@markdown <small>Just run the cell and enjoy. (required to run the cell above first)</small>\n",
        "\n",
        "#@markdown <small>You can disable Google Drive by not permitting the notebook to access your Google Drive storage.</small>\n",
        "\n",
        "#@markdown <small>If the runtime got restarted, just run it again.</small>\n",
        "#_______________________________________________________________________________________________________________________________________\n",
        "\n",
        "from StableDiffusionXLColabUI.UI.ui_wrapper import UIWrapper\n",
        "from StableDiffusionXLColabUI.utils import preprocess\n",
        "\n",
        "# Preprocess the save file, ideas.txt, and GPT-2\n",
        "cfg, ideas_line, gpt2_pipe = preprocess.run()\n",
        "\n",
        "# Doing everything\n",
        "colab_ui = UIWrapper(cfg, ideas_line, gpt2_pipe)"
      ]
    }
  ],
  "metadata": {
    "accelerator": "GPU",
    "colab": {
      "collapsed_sections": [
        "t8hug-0Okf8t"
      ],
      "gpuType": "T4",
      "provenance": [],
      "include_colab_link": true
    },
    "kernelspec": {
      "display_name": "Python 3",
      "name": "python3"
    },
    "language_info": {
      "name": "python"
    }
  },
  "nbformat": 4,
  "nbformat_minor": 0
}
